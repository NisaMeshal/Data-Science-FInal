{
 "cells": [
  {
   "cell_type": "markdown",
   "metadata": {},
   "source": [
    "# Final Project \n",
    "\n",
    "This project will analyze my Spotify user data and weather information over the span of July to September of this year. I chose this data because I enjoy listening to music and it would be fun to see a breakdown of my information aside from the annual Spotify wrapped. Additionally, I chose this so that I could try and spot a pattern from my listening habits. The tables of Spotify data include track name, time played, artist, and date played collected from my usage of the app. The weather API will return a CSV that contains dates and the weather data for that given date collected by the Spokane weather station. In this project, we will only use average daily temperature since most of the other attributes are irrelevant and have many missing values. For classification, I will classify the genres of each artist and make predictions upon it. "
   ]
  },
  {
   "cell_type": "code",
   "execution_count": 1,
   "metadata": {},
   "outputs": [],
   "source": [
    "import importlib \n",
    "import requests\n",
    "import json\n",
    "import pandas as pd\n",
    "import numpy as np\n",
    "import matplotlib.pyplot as plt\n",
    "import base64\n",
    "import utilsapi\n",
    "importlib.reload(utilsapi)  #we don't have to start the kernel every time. \n",
    "import scipy.stats as stats\n",
    "from sklearn import preprocessing \n",
    "from sklearn.tree import DecisionTreeClassifier\n",
    "from sklearn.neighbors import KNeighborsClassifier\n",
    "from sklearn.metrics import accuracy_score\n",
    "from sklearn.model_selection import train_test_split\n",
    "import csv\n",
    "from sklearn.preprocessing import MinMaxScaler"
   ]
  },
  {
   "cell_type": "markdown",
   "metadata": {},
   "source": [
    "#### Cleaning Personal Spotify Data\n",
    "\n",
    "Once I made the request to retrieve my data, Spotify makes available a folder full of user data and information that I can open and read in. The data comes in the form of JSON files. Each instance comes with endtime, aritst name, song, and miliseconds played attributes. Below I read the JSON and split the endTime attribute from the file becuase it had the time and date within the same column. I split this into two in order to give date its own column and later merge on it. The rest of the inofrmation such as trackName, artistName, and miliSecond played are then appended to a new DataFrame and the values were split are appended to it as well. Lastly, I take the miliseconds played column and divide each value to minutes by dividing the instance by 60000."
   ]
  },
  {
   "cell_type": "code",
   "execution_count": 2,
   "metadata": {},
   "outputs": [],
   "source": [
    "spotify_data = pd.read_json(\"StreamingHistory1.json\")\n",
    "time_data = spotify_data['endTime']\n",
    "dates_list = []\n",
    "times_list = []\n",
    "for item in time_data: #split the string and store them into two different variables. \n",
    "    values = item.split(' ')\n",
    "    dates_list.append(values[0])\n",
    "    times_list.append(values[1])\n",
    "d = {'dates': dates_list, 'times': times_list}\n",
    "split_df = pd.DataFrame(d)\n",
    "extract_df = pd.DataFrame([spotify_data[\"artistName\"], spotify_data[\"trackName\"], spotify_data[\"msPlayed\"]])\n",
    "spotify_data = spotify_data.drop(columns=['endTime'])\n",
    "final_df = pd.concat([split_df, spotify_data], axis=1, ignore_index=True)\n",
    "mlseconds = final_df[4]\n",
    "minutes = []\n",
    "for i in mlseconds:\n",
    "    minutes.append(round(i/60000, 2))\n",
    "final_df['minutes'] = minutes\n",
    "final_df = final_df.drop(columns=[4])\n",
    "\n",
    "final_df.to_csv(\"final.csv\")"
   ]
  },
  {
   "cell_type": "markdown",
   "metadata": {},
   "source": [
    "##### Summing Daily Listening Time \n",
    "\n",
    "In this section, we sum the daily listening time. We do this by taking the duration that we listen to each time and adding it together to make the total listening time for a given day. It is critical that the date is split away and made into its own column because this is the common attribute that both datasets hold. "
   ]
  },
  {
   "cell_type": "code",
   "execution_count": 3,
   "metadata": {},
   "outputs": [
    {
     "name": "stdout",
     "output_type": "stream",
     "text": [
      "       total_time\n",
      "count   83.000000\n",
      "mean   135.069157\n",
      "std    133.970363\n",
      "min      0.000000\n",
      "25%     36.420000\n",
      "50%     88.620000\n",
      "75%    189.530000\n",
      "max    607.160000\n"
     ]
    }
   ],
   "source": [
    "time_data['date'] = final_df[0] \n",
    "time_data['minutes'] = final_df['minutes']\n",
    "dates = []\n",
    "total_minutes = []\n",
    "prev_date = time_data['date'][0]\n",
    "current_date = \"\"\n",
    "total_time = 0\n",
    "\n",
    "for i in range(len(time_data['date'])) :\n",
    "    current_date = time_data['date'][i]\n",
    "    if current_date == prev_date:\n",
    "        total_time = round(total_time + time_data['minutes'][i], 2)\n",
    "    if current_date != prev_date:\n",
    "        dates.append(prev_date)\n",
    "        total_minutes.append(total_time)\n",
    "        total_time = 0\n",
    "    prev_date = current_date\n",
    "dates.append(current_date)\n",
    "total_minutes.append(total_time)\n",
    "\n",
    "daily_time = pd.DataFrame(dates, columns=['date'])\n",
    "daily_time['total_time'] = total_minutes\n",
    "daily_time.to_csv(\"dailytime.csv\")\n",
    "print(daily_time.describe())"
   ]
  },
  {
   "cell_type": "markdown",
   "metadata": {},
   "source": [
    "Based on the daily time that we have split and appended onto the DataFrame, calling the describe function gives us the results we see above. It's interesting to see that the most time I spent listening to music in one day was 600 minutes which is 10 hours. It is also worth noting that the average daily time spent listening to mmusic was 135 minutes or 2 hours and 15 minutes. \n",
    "\n",
    "### Weather API Request and Cleaning \n",
    "\n",
    "Next, we make a request to the weather API in order to retrieve Spokane weather data for the span of our objects. After making the request, I make a DataFrame full of the most important attibutes from the response. I also drop any attributes that have too many missing values. Any columns that are kept and contain NaNs will get their instances front filled and then backfilled in the case that there are empty instances at the end of the response.  "
   ]
  },
  {
   "cell_type": "code",
   "execution_count": 4,
   "metadata": {},
   "outputs": [],
   "source": [
    "# obtain daily weather data for 01/01/2021 until 10/20/2021 (I used the 20th because any later date made it error out)\n",
    "daily_url = \"https://meteostat.p.rapidapi.com/stations/daily\"\n",
    "daily_url += \"?station=\" + \"KSFF0\"\n",
    "daily_url += \"&start=2021-07-01&end=2021-09-29&units=imperial\"\n",
    "daily_headers = {\"x-rapidapi-key\": utilsapi.weather}\n",
    "response = requests.get(url=daily_url, headers=daily_headers)\n",
    "json_obj = json.loads(response.text)\n",
    "data_obj = json_obj['data']\n",
    "#load data_obj into a data frame and set the headers. \n",
    "df = pd.DataFrame(data_obj, columns= ['date', 'tavg', 'tmin', 'tmax', 'prcp', 'snow', 'wdir', 'wspd', 'wpgt', 'pres', 'tsun'])\n",
    "#replace values that are missing with np.nan so I can later use .isnull().mean()\n",
    "df = df.fillna(value=np.nan)\n",
    "# takes the average of isnulls within the column and creates a new dataframe with columns that only contain less than 75% of NaNs\n",
    "df = df[df.columns[(df.isnull().mean() < 0.75)]]\n",
    "#cleans up the data frame by filling NaNs \n",
    "df = df.interpolate(method='linear')\n",
    "df = df.ffill()\n",
    "df = df.bfill()\n",
    "# prints out the cleaned data to a csv\n",
    "df.to_csv(\"Spokane_daily_weather_cleaned.csv\")\n"
   ]
  },
  {
   "cell_type": "markdown",
   "metadata": {},
   "source": [
    "##### Grabbing Artists from Personal Data\n",
    "\n",
    "In this next part, we take the artist column of the DataFrame and we iterate through it to make a list full of all the artists that I listen to. I do this becuase in order to make the requests to the Spotify API and keep VSCode from crashing, I can't make requests for all 4500 instances in my DataFrame. So this approach where I only make requests once per every artist is far more convenient and greatly reduces the chance of error. At the end of this code cell however, it is seen tat I removed an artist form the list. I decided to go in and remove this artist becuase the JSON response did not have an item in it at all. Therefore, there was nothing for me to extract from it. Initially, I did not intend on excluding any of the artists from my list. However, removing this artist did not make any significant change to my data because I listened to this artist at most 2 times. "
   ]
  },
  {
   "cell_type": "code",
   "execution_count": 5,
   "metadata": {},
   "outputs": [],
   "source": [
    "artists = []\n",
    "prev_artist = final_df[2][0]\n",
    "index = 0;\n",
    "\n",
    "for i in final_df[2]:\n",
    "    if i in artists:\n",
    "        continue\n",
    "    else:\n",
    "        artists.append(i)\n",
    "\n",
    "artist = artists.remove(\"MakFlakes \") #this artist had to be removed because it returned a response with no item[0] (as if item didn't exist)\n",
    "#this won't effect my data too much because I don't even remember who this artist is "
   ]
  },
  {
   "cell_type": "markdown",
   "metadata": {},
   "source": [
    "### Spotify API Requests for Artist Genre \n",
    "\n",
    "The next step is to make requests for genres of each artist. This code is taken from the example done by Gina Sprint in class. This entire block grabs the access token and uses it when iterating through the artist names. Once I get a JSON response, I parse through the data to find the genre and return it to store inside of a list. "
   ]
  },
  {
   "cell_type": "code",
   "execution_count": 6,
   "metadata": {},
   "outputs": [
    {
     "name": "stdout",
     "output_type": "stream",
     "text": [
      "https://api.spotify.com/v1/search?q=Bring%20Me%20The%20Horizon&type=artist\n",
      "https://api.spotify.com/v1/search?q=Verzache&type=artist\n",
      "https://api.spotify.com/v1/search?q=Rich%20Brian&type=artist\n",
      "https://api.spotify.com/v1/search?q=Post%20Malone&type=artist\n",
      "https://api.spotify.com/v1/search?q=Joji&type=artist\n",
      "https://api.spotify.com/v1/search?q=Krys%20Talk&type=artist\n",
      "https://api.spotify.com/v1/search?q=DPR%20LIVE&type=artist\n",
      "https://api.spotify.com/v1/search?q=Bagger%20boy&type=artist\n",
      "https://api.spotify.com/v1/search?q=Billy%20Marchiafava&type=artist\n",
      "https://api.spotify.com/v1/search?q=The%20Weeknd&type=artist\n",
      "https://api.spotify.com/v1/search?q=SoulChef&type=artist\n",
      "https://api.spotify.com/v1/search?q=Topaz%20Jones&type=artist\n",
      "https://api.spotify.com/v1/search?q=Frank%20Ocean&type=artist\n",
      "https://api.spotify.com/v1/search?q=Khalid&type=artist\n",
      "https://api.spotify.com/v1/search?q=Aaron%20May&type=artist\n",
      "https://api.spotify.com/v1/search?q=Childish%20Gambino&type=artist\n",
      "https://api.spotify.com/v1/search?q=Rex%20Orange%20County&type=artist\n",
      "https://api.spotify.com/v1/search?q=Brent%20Faiyaz&type=artist\n",
      "https://api.spotify.com/v1/search?q=pxzvc&type=artist\n",
      "https://api.spotify.com/v1/search?q=J%20Balvin&type=artist\n",
      "https://api.spotify.com/v1/search?q=biosphere&type=artist\n",
      "https://api.spotify.com/v1/search?q=Myke%20Towers&type=artist\n",
      "https://api.spotify.com/v1/search?q=Elvis%20Presley&type=artist\n",
      "https://api.spotify.com/v1/search?q=Bobby%20McFerrin&type=artist\n",
      "https://api.spotify.com/v1/search?q=Neil%20Diamond&type=artist\n",
      "https://api.spotify.com/v1/search?q=Frankie%20Valli%20%26%20The%20Four%20Seasons&type=artist\n",
      "https://api.spotify.com/v1/search?q=Four%20Tops&type=artist\n",
      "https://api.spotify.com/v1/search?q=Queen&type=artist\n",
      "https://api.spotify.com/v1/search?q=The%20Beatles&type=artist\n",
      "https://api.spotify.com/v1/search?q=Van%20Morrison&type=artist\n",
      "https://api.spotify.com/v1/search?q=Samsa&type=artist\n",
      "https://api.spotify.com/v1/search?q=Dynamicduo&type=artist\n",
      "https://api.spotify.com/v1/search?q=IU&type=artist\n",
      "https://api.spotify.com/v1/search?q=Stray%20Kids&type=artist\n",
      "https://api.spotify.com/v1/search?q=BTS&type=artist\n",
      "https://api.spotify.com/v1/search?q=Epik%20High&type=artist\n",
      "https://api.spotify.com/v1/search?q=Agust%20D&type=artist\n",
      "https://api.spotify.com/v1/search?q=iKON&type=artist\n",
      "https://api.spotify.com/v1/search?q=TOO&type=artist\n",
      "https://api.spotify.com/v1/search?q=MCND&type=artist\n",
      "https://api.spotify.com/v1/search?q=ZICO&type=artist\n",
      "https://api.spotify.com/v1/search?q=NCT%20127&type=artist\n",
      "https://api.spotify.com/v1/search?q=TAEYEON&type=artist\n",
      "https://api.spotify.com/v1/search?q=EXO-SC&type=artist\n",
      "https://api.spotify.com/v1/search?q=Hwa%20Sa&type=artist\n",
      "https://api.spotify.com/v1/search?q=WINNER&type=artist\n",
      "https://api.spotify.com/v1/search?q=NCT%20DREAM&type=artist\n",
      "https://api.spotify.com/v1/search?q=OH%20MY%20GIRL&type=artist\n",
      "https://api.spotify.com/v1/search?q=Red%20Velvet&type=artist\n",
      "https://api.spotify.com/v1/search?q=TOMORROW%20X%20TOGETHER&type=artist\n",
      "https://api.spotify.com/v1/search?q=ONG%20SEONG%20WU&type=artist\n",
      "https://api.spotify.com/v1/search?q=GOT7&type=artist\n",
      "https://api.spotify.com/v1/search?q=Min%20Kyunghoon&type=artist\n",
      "https://api.spotify.com/v1/search?q=Jessi&type=artist\n",
      "https://api.spotify.com/v1/search?q=tobi%20lou&type=artist\n",
      "https://api.spotify.com/v1/search?q=Cuco&type=artist\n",
      "https://api.spotify.com/v1/search?q=Kanye%20West&type=artist\n",
      "https://api.spotify.com/v1/search?q=Timmies&type=artist\n",
      "https://api.spotify.com/v1/search?q=MC%20Virgins&type=artist\n",
      "https://api.spotify.com/v1/search?q=Chandler%20Cutthroat&type=artist\n",
      "https://api.spotify.com/v1/search?q=Dominic%20Fike&type=artist\n",
      "https://api.spotify.com/v1/search?q=FLANNEL%20ALBERT&type=artist\n",
      "https://api.spotify.com/v1/search?q=Doja%20Cat&type=artist\n",
      "https://api.spotify.com/v1/search?q=Remi%20Wolf&type=artist\n",
      "https://api.spotify.com/v1/search?q=Jaden&type=artist\n",
      "https://api.spotify.com/v1/search?q=DaBaby&type=artist\n",
      "https://api.spotify.com/v1/search?q=Dua%20Lipa&type=artist\n",
      "https://api.spotify.com/v1/search?q=88rising&type=artist\n",
      "https://api.spotify.com/v1/search?q=Gabriel%20Garz%C3%B3n-Montano&type=artist\n",
      "https://api.spotify.com/v1/search?q=NIKI&type=artist\n",
      "https://api.spotify.com/v1/search?q=Maroon%205&type=artist\n",
      "https://api.spotify.com/v1/search?q=Ariana%20Grande&type=artist\n",
      "https://api.spotify.com/v1/search?q=Clairo&type=artist\n",
      "https://api.spotify.com/v1/search?q=Louis%20Capone&type=artist\n",
      "https://api.spotify.com/v1/search?q=99%20Neighbors&type=artist\n",
      "https://api.spotify.com/v1/search?q=Tyler%2C%20The%20Creator&type=artist\n",
      "https://api.spotify.com/v1/search?q=Classics%20IV&type=artist\n",
      "https://api.spotify.com/v1/search?q=SZA&type=artist\n",
      "https://api.spotify.com/v1/search?q=Saweetie&type=artist\n",
      "https://api.spotify.com/v1/search?q=Olivia%20Rodrigo&type=artist\n",
      "https://api.spotify.com/v1/search?q=WILLOW&type=artist\n",
      "https://api.spotify.com/v1/search?q=KYLE&type=artist\n",
      "https://api.spotify.com/v1/search?q=Ritt%20Momney&type=artist\n",
      "https://api.spotify.com/v1/search?q=Kali%20Uchis&type=artist\n",
      "https://api.spotify.com/v1/search?q=Bad%20Bunny&type=artist\n",
      "https://api.spotify.com/v1/search?q=Hozier&type=artist\n",
      "https://api.spotify.com/v1/search?q=Sarah%20Cothran&type=artist\n",
      "https://api.spotify.com/v1/search?q=SHAED&type=artist\n",
      "https://api.spotify.com/v1/search?q=Peach%20Tree%20Rascals&type=artist\n",
      "https://api.spotify.com/v1/search?q=Melanie%20Martinez&type=artist\n",
      "https://api.spotify.com/v1/search?q=Monsta%20X&type=artist\n",
      "https://api.spotify.com/v1/search?q=j-hope&type=artist\n",
      "https://api.spotify.com/v1/search?q=VIXX&type=artist\n",
      "https://api.spotify.com/v1/search?q=Sik-K&type=artist\n",
      "https://api.spotify.com/v1/search?q=Lil%20Nas%20X&type=artist\n",
      "https://api.spotify.com/v1/search?q=EXO&type=artist\n",
      "https://api.spotify.com/v1/search?q=BIGBANG&type=artist\n",
      "https://api.spotify.com/v1/search?q=V&type=artist\n",
      "https://api.spotify.com/v1/search?q=Shiloh%20Dynasty&type=artist\n",
      "https://api.spotify.com/v1/search?q=The%20Beach%20Boys&type=artist\n",
      "https://api.spotify.com/v1/search?q=The%20Rolling%20Stones&type=artist\n",
      "https://api.spotify.com/v1/search?q=The%20Temptations&type=artist\n",
      "https://api.spotify.com/v1/search?q=The%20Byrds&type=artist\n",
      "https://api.spotify.com/v1/search?q=EXID&type=artist\n",
      "https://api.spotify.com/v1/search?q=AUDREY%20NUNA&type=artist\n",
      "https://api.spotify.com/v1/search?q=BIBI&type=artist\n",
      "https://api.spotify.com/v1/search?q=Lil%20Mosey&type=artist\n",
      "https://api.spotify.com/v1/search?q=TroutFresh&type=artist\n",
      "https://api.spotify.com/v1/search?q=Dvwn&type=artist\n",
      "https://api.spotify.com/v1/search?q=24kGoldn&type=artist\n",
      "https://api.spotify.com/v1/search?q=DPR%20IAN&type=artist\n",
      "https://api.spotify.com/v1/search?q=DEAN&type=artist\n",
      "https://api.spotify.com/v1/search?q=Swings&type=artist\n",
      "https://api.spotify.com/v1/search?q=lIlBOI&type=artist\n",
      "https://api.spotify.com/v1/search?q=Donutman&type=artist\n",
      "https://api.spotify.com/v1/search?q=YUMDDA&type=artist\n",
      "https://api.spotify.com/v1/search?q=OOHYO&type=artist\n",
      "https://api.spotify.com/v1/search?q=VaVa&type=artist\n",
      "https://api.spotify.com/v1/search?q=offonoff&type=artist\n",
      "https://api.spotify.com/v1/search?q=punchnello&type=artist\n",
      "https://api.spotify.com/v1/search?q=Reddy&type=artist\n",
      "https://api.spotify.com/v1/search?q=Hashir&type=artist\n",
      "https://api.spotify.com/v1/search?q=brakence&type=artist\n",
      "https://api.spotify.com/v1/search?q=City%20Girl&type=artist\n",
      "https://api.spotify.com/v1/search?q=Matt%20Maltese&type=artist\n",
      "https://api.spotify.com/v1/search?q=Peterpan&type=artist\n",
      "https://api.spotify.com/v1/search?q=Slam&type=artist\n",
      "https://api.spotify.com/v1/search?q=Ebiet%20G.%20Ade&type=artist\n",
      "https://api.spotify.com/v1/search?q=Bunga&type=artist\n",
      "https://api.spotify.com/v1/search?q=Iwan%20Fals&type=artist\n",
      "https://api.spotify.com/v1/search?q=Chrisye&type=artist\n",
      "https://api.spotify.com/v1/search?q=Gigi&type=artist\n",
      "https://api.spotify.com/v1/search?q=Wallows&type=artist\n",
      "https://api.spotify.com/v1/search?q=Bryce%20Vine&type=artist\n",
      "https://api.spotify.com/v1/search?q=Hippie%20Sabotage&type=artist\n",
      "https://api.spotify.com/v1/search?q=Kauai45&type=artist\n",
      "https://api.spotify.com/v1/search?q=khai%20dreams&type=artist\n",
      "https://api.spotify.com/v1/search?q=Roderick%20Porter&type=artist\n",
      "https://api.spotify.com/v1/search?q=sagun&type=artist\n",
      "https://api.spotify.com/v1/search?q=Pink%20Sweat%24&type=artist\n",
      "https://api.spotify.com/v1/search?q=Baby%20Keem&type=artist\n",
      "https://api.spotify.com/v1/search?q=Prince%20Royce&type=artist\n",
      "https://api.spotify.com/v1/search?q=SUNMI&type=artist\n",
      "https://api.spotify.com/v1/search?q=Hyolyn&type=artist\n",
      "https://api.spotify.com/v1/search?q=GD%20X%20TAEYANG&type=artist\n",
      "https://api.spotify.com/v1/search?q=sooya&type=artist\n",
      "https://api.spotify.com/v1/search?q=Talking%20To%20Ghosts&type=artist\n",
      "https://api.spotify.com/v1/search?q=BLACKPINK&type=artist\n",
      "https://api.spotify.com/v1/search?q=Jawsh%20685&type=artist\n",
      "https://api.spotify.com/v1/search?q=Piero%20Piccioni&type=artist\n",
      "https://api.spotify.com/v1/search?q=Of%20Monsters%20and%20Men&type=artist\n",
      "https://api.spotify.com/v1/search?q=Mirta%20da%20Silva&type=artist\n",
      "https://api.spotify.com/v1/search?q=Rich%20Mortimer&type=artist\n",
      "https://api.spotify.com/v1/search?q=Marcin%20Starosta&type=artist\n",
      "https://api.spotify.com/v1/search?q=Odd%20Future&type=artist\n",
      "https://api.spotify.com/v1/search?q=bbno%24&type=artist\n",
      "https://api.spotify.com/v1/search?q=XXXTENTACION&type=artist\n",
      "https://api.spotify.com/v1/search?q=Mirani&type=artist\n",
      "https://api.spotify.com/v1/search?q=cinnamons&type=artist\n",
      "https://api.spotify.com/v1/search?q=Jvcki%20Wai&type=artist\n",
      "https://api.spotify.com/v1/search?q=CODE%20KUNST&type=artist\n",
      "https://api.spotify.com/v1/search?q=Way%20Ched&type=artist\n",
      "https://api.spotify.com/v1/search?q=MINO&type=artist\n",
      "https://api.spotify.com/v1/search?q=Cosmic%20Boy&type=artist\n",
      "https://api.spotify.com/v1/search?q=Loco&type=artist\n",
      "https://api.spotify.com/v1/search?q=We%20Are%20The%20Night&type=artist\n",
      "https://api.spotify.com/v1/search?q=Kendrick%20Lamar&type=artist\n",
      "https://api.spotify.com/v1/search?q=Kid%20Travis&type=artist\n",
      "https://api.spotify.com/v1/search?q=SEB&type=artist\n",
      "https://api.spotify.com/v1/search?q=Alessia%20Cara&type=artist\n",
      "https://api.spotify.com/v1/search?q=Sheila%20On%207&type=artist\n",
      "https://api.spotify.com/v1/search?q=Bening&type=artist\n",
      "https://api.spotify.com/v1/search?q=Potret&type=artist\n",
      "https://api.spotify.com/v1/search?q=Marcell&type=artist\n",
      "https://api.spotify.com/v1/search?q=Koes%20Plus&type=artist\n",
      "https://api.spotify.com/v1/search?q=Lesti&type=artist\n",
      "https://api.spotify.com/v1/search?q=Katon%20Bagaskara&type=artist\n",
      "https://api.spotify.com/v1/search?q=Reza%20Artamevia&type=artist\n",
      "https://api.spotify.com/v1/search?q=Ava%20Max&type=artist\n",
      "https://api.spotify.com/v1/search?q=Alexa&type=artist\n",
      "https://api.spotify.com/v1/search?q=Kla%20Project&type=artist\n",
      "https://api.spotify.com/v1/search?q=Kahitna&type=artist\n",
      "https://api.spotify.com/v1/search?q=Obbie%20Messakh&type=artist\n",
      "https://api.spotify.com/v1/search?q=Once%20Mekel&type=artist\n",
      "https://api.spotify.com/v1/search?q=NINEBALL&type=artist\n",
      "https://api.spotify.com/v1/search?q=Ipang&type=artist\n",
      "https://api.spotify.com/v1/search?q=Melly%20Goeslaw&type=artist\n",
      "https://api.spotify.com/v1/search?q=Memes&type=artist\n",
      "https://api.spotify.com/v1/search?q=Ariel%20NOAH&type=artist\n",
      "https://api.spotify.com/v1/search?q=LAGOS&type=artist\n",
      "https://api.spotify.com/v1/search?q=Sleep%20Fruits%20Music&type=artist\n",
      "https://api.spotify.com/v1/search?q=Johnny%20Stimson&type=artist\n",
      "https://api.spotify.com/v1/search?q=The%20Cascades&type=artist\n",
      "https://api.spotify.com/v1/search?q=The%20Ronettes&type=artist\n",
      "https://api.spotify.com/v1/search?q=Frankie%20Valli&type=artist\n",
      "https://api.spotify.com/v1/search?q=Judy%20Garland&type=artist\n",
      "https://api.spotify.com/v1/search?q=Otis%20Redding&type=artist\n",
      "https://api.spotify.com/v1/search?q=Mary%20Wells&type=artist\n",
      "https://api.spotify.com/v1/search?q=Little%20River%20Band&type=artist\n",
      "https://api.spotify.com/v1/search?q=The%20Monkees&type=artist\n",
      "https://api.spotify.com/v1/search?q=The%20Troggs&type=artist\n",
      "https://api.spotify.com/v1/search?q=The%20Mamas%20%26%20The%20Papas&type=artist\n",
      "https://api.spotify.com/v1/search?q=Aretha%20Franklin&type=artist\n",
      "https://api.spotify.com/v1/search?q=Nat%20King%20Cole&type=artist\n",
      "https://api.spotify.com/v1/search?q=Frank%20Sinatra&type=artist\n",
      "https://api.spotify.com/v1/search?q=Eagles&type=artist\n",
      "https://api.spotify.com/v1/search?q=The%20Monotones&type=artist\n",
      "https://api.spotify.com/v1/search?q=Randy%20Newman&type=artist\n",
      "https://api.spotify.com/v1/search?q=The%20Chordettes&type=artist\n",
      "https://api.spotify.com/v1/search?q=Stefflon%20Don&type=artist\n",
      "https://api.spotify.com/v1/search?q=Megan%20Thee%20Stallion&type=artist\n",
      "https://api.spotify.com/v1/search?q=Anne-Marie&type=artist\n",
      "https://api.spotify.com/v1/search?q=Rauw%20Alejandro&type=artist\n",
      "https://api.spotify.com/v1/search?q=Imagine%20Dragons&type=artist\n",
      "https://api.spotify.com/v1/search?q=Justin%20Bieber&type=artist\n",
      "https://api.spotify.com/v1/search?q=Farruko&type=artist\n",
      "https://api.spotify.com/v1/search?q=blackbear&type=artist\n",
      "https://api.spotify.com/v1/search?q=Russ&type=artist\n",
      "https://api.spotify.com/v1/search?q=Daniel%20Caesar&type=artist\n",
      "https://api.spotify.com/v1/search?q=FINNEAS&type=artist\n",
      "https://api.spotify.com/v1/search?q=Lauv&type=artist\n",
      "https://api.spotify.com/v1/search?q=Amin%C3%A9&type=artist\n",
      "https://api.spotify.com/v1/search?q=Peachy%21&type=artist\n",
      "https://api.spotify.com/v1/search?q=Burbank&type=artist\n",
      "https://api.spotify.com/v1/search?q=Sofia%20Mills&type=artist\n",
      "https://api.spotify.com/v1/search?q=Dr.%20Dog&type=artist\n",
      "https://api.spotify.com/v1/search?q=R%C5%AEDE&type=artist\n",
      "https://api.spotify.com/v1/search?q=girl%20in%20red&type=artist\n",
      "https://api.spotify.com/v1/search?q=keshi&type=artist\n",
      "https://api.spotify.com/v1/search?q=Jeremy%20Zucker&type=artist\n",
      "https://api.spotify.com/v1/search?q=Mac%20Miller&type=artist\n",
      "https://api.spotify.com/v1/search?q=Glass%20Animals&type=artist\n",
      "https://api.spotify.com/v1/search?q=Monsune&type=artist\n",
      "https://api.spotify.com/v1/search?q=Mild%20High%20Club&type=artist\n",
      "https://api.spotify.com/v1/search?q=Yot%20Club&type=artist\n",
      "https://api.spotify.com/v1/search?q=Field%20Medic&type=artist\n",
      "https://api.spotify.com/v1/search?q=BENEE&type=artist\n",
      "https://api.spotify.com/v1/search?q=Super%20Guitar%20Bros&type=artist\n",
      "https://api.spotify.com/v1/search?q=Stephen%20Sanchez&type=artist\n",
      "https://api.spotify.com/v1/search?q=LLusion&type=artist\n",
      "https://api.spotify.com/v1/search?q=Joanna%20Wang&type=artist\n",
      "https://api.spotify.com/v1/search?q=Mitski&type=artist\n",
      "https://api.spotify.com/v1/search?q=The%20Oh%20Hellos&type=artist\n",
      "https://api.spotify.com/v1/search?q=Vashti%20Bunyan&type=artist\n",
      "https://api.spotify.com/v1/search?q=Frances%20Forever&type=artist\n",
      "https://api.spotify.com/v1/search?q=Over%20the%20Garden%20Wall&type=artist\n",
      "https://api.spotify.com/v1/search?q=The%20Paper%20Kites&type=artist\n",
      "https://api.spotify.com/v1/search?q=beabadoobee&type=artist\n",
      "https://api.spotify.com/v1/search?q=Claire%20Rosinkranz&type=artist\n",
      "https://api.spotify.com/v1/search?q=Jack%20Stauber&type=artist\n",
      "https://api.spotify.com/v1/search?q=SALES&type=artist\n",
      "https://api.spotify.com/v1/search?q=dodie&type=artist\n",
      "https://api.spotify.com/v1/search?q=Grissini%20Project&type=artist\n",
      "https://api.spotify.com/v1/search?q=Phoebe%20Bridgers&type=artist\n",
      "https://api.spotify.com/v1/search?q=Conan%20Gray&type=artist\n",
      "https://api.spotify.com/v1/search?q=Tai%20Verdes&type=artist\n",
      "https://api.spotify.com/v1/search?q=Serena%20Isioma&type=artist\n",
      "https://api.spotify.com/v1/search?q=Crisaunt&type=artist\n",
      "https://api.spotify.com/v1/search?q=Kate%20Brunotts&type=artist\n",
      "https://api.spotify.com/v1/search?q=The%20Golf%20Club&type=artist\n",
      "https://api.spotify.com/v1/search?q=Calvin%20Harris&type=artist\n",
      "https://api.spotify.com/v1/search?q=347aidan&type=artist\n",
      "https://api.spotify.com/v1/search?q=Dayglow&type=artist\n",
      "https://api.spotify.com/v1/search?q=The%20Kid%20LAROI&type=artist\n",
      "https://api.spotify.com/v1/search?q=Tame%20Impala&type=artist\n",
      "https://api.spotify.com/v1/search?q=B%C3%98RNS&type=artist\n",
      "https://api.spotify.com/v1/search?q=JAWNY&type=artist\n",
      "https://api.spotify.com/v1/search?q=Mac%20DeMarco&type=artist\n",
      "https://api.spotify.com/v1/search?q=binki&type=artist\n",
      "https://api.spotify.com/v1/search?q=GoldLink&type=artist\n",
      "https://api.spotify.com/v1/search?q=Aries&type=artist\n",
      "https://api.spotify.com/v1/search?q=Valntn&type=artist\n",
      "https://api.spotify.com/v1/search?q=RINI&type=artist\n",
      "https://api.spotify.com/v1/search?q=Weston%20Estate&type=artist\n",
      "https://api.spotify.com/v1/search?q=Zamir&type=artist\n",
      "https://api.spotify.com/v1/search?q=Lee%20Jin%20Ah&type=artist\n",
      "https://api.spotify.com/v1/search?q=Audrey%20Mika&type=artist\n",
      "https://api.spotify.com/v1/search?q=WOODZ&type=artist\n",
      "https://api.spotify.com/v1/search?q=Shayne%20Orok&type=artist\n",
      "https://api.spotify.com/v1/search?q=potsu&type=artist\n",
      "https://api.spotify.com/v1/search?q=Highvyn&type=artist\n",
      "https://api.spotify.com/v1/search?q=CIKI&type=artist\n",
      "https://api.spotify.com/v1/search?q=JERHELL&type=artist\n",
      "https://api.spotify.com/v1/search?q=Rook1e&type=artist\n",
      "https://api.spotify.com/v1/search?q=Blake%20and%20Miles&type=artist\n",
      "https://api.spotify.com/v1/search?q=KnowKnow&type=artist\n",
      "https://api.spotify.com/v1/search?q=Ashe&type=artist\n",
      "https://api.spotify.com/v1/search?q=RM&type=artist\n",
      "https://api.spotify.com/v1/search?q=Ryan%20Librada&type=artist\n",
      "https://api.spotify.com/v1/search?q=Renzo&type=artist\n",
      "https://api.spotify.com/v1/search?q=frad&type=artist\n",
      "https://api.spotify.com/v1/search?q=%24uicideboy%24&type=artist\n",
      "https://api.spotify.com/v1/search?q=BAEKHYUN&type=artist\n",
      "https://api.spotify.com/v1/search?q=McKay&type=artist\n",
      "https://api.spotify.com/v1/search?q=So%21YoON%21&type=artist\n",
      "https://api.spotify.com/v1/search?q=Prod%20by%20Rose&type=artist\n",
      "https://api.spotify.com/v1/search?q=HONNE&type=artist\n",
      "https://api.spotify.com/v1/search?q=Bazzi&type=artist\n",
      "https://api.spotify.com/v1/search?q=Isaac%20Zale&type=artist\n",
      "https://api.spotify.com/v1/search?q=LORD%24OFDOGTOWN&type=artist\n",
      "https://api.spotify.com/v1/search?q=Duckwrth&type=artist\n",
      "https://api.spotify.com/v1/search?q=Cautious%20Clay&type=artist\n",
      "https://api.spotify.com/v1/search?q=Pretty%20Boy%20Aaron&type=artist\n",
      "https://api.spotify.com/v1/search?q=PnB%20Rock&type=artist\n",
      "https://api.spotify.com/v1/search?q=glbl%20wrmng&type=artist\n",
      "https://api.spotify.com/v1/search?q=Angelo%20Mota&type=artist\n",
      "https://api.spotify.com/v1/search?q=anaiis&type=artist\n",
      "https://api.spotify.com/v1/search?q=H.E.R.&type=artist\n",
      "https://api.spotify.com/v1/search?q=Terrell%20Hines&type=artist\n",
      "https://api.spotify.com/v1/search?q=Cosmo%27s%20Midnight&type=artist\n",
      "https://api.spotify.com/v1/search?q=boy%20pablo&type=artist\n",
      "https://api.spotify.com/v1/search?q=MAX&type=artist\n",
      "https://api.spotify.com/v1/search?q=Parcels&type=artist\n",
      "https://api.spotify.com/v1/search?q=BETWEEN%20FRIENDS&type=artist\n",
      "https://api.spotify.com/v1/search?q=LoveLeo&type=artist\n",
      "https://api.spotify.com/v1/search?q=glaive&type=artist\n",
      "https://api.spotify.com/v1/search?q=Charlie%20Powers&type=artist\n",
      "https://api.spotify.com/v1/search?q=Kevin%20Abstract&type=artist\n",
      "https://api.spotify.com/v1/search?q=Unusual%20Demont&type=artist\n",
      "https://api.spotify.com/v1/search?q=Kylesimps&type=artist\n",
      "https://api.spotify.com/v1/search?q=Savage%20Ga%24p&type=artist\n",
      "https://api.spotify.com/v1/search?q=Emotional%20Oranges&type=artist\n",
      "https://api.spotify.com/v1/search?q=Zion.T&type=artist\n",
      "https://api.spotify.com/v1/search?q=Wonstein&type=artist\n",
      "https://api.spotify.com/v1/search?q=GD%26TOP&type=artist\n",
      "https://api.spotify.com/v1/search?q=BTOB&type=artist\n",
      "https://api.spotify.com/v1/search?q=Ari%20Lasso&type=artist\n",
      "https://api.spotify.com/v1/search?q=Geisha&type=artist\n",
      "https://api.spotify.com/v1/search?q=Nidji&type=artist\n",
      "https://api.spotify.com/v1/search?q=Noah&type=artist\n",
      "https://api.spotify.com/v1/search?q=SAMSONS&type=artist\n",
      "https://api.spotify.com/v1/search?q=D%E2%80%99MASIV&type=artist\n",
      "https://api.spotify.com/v1/search?q=Ungu&type=artist\n",
      "https://api.spotify.com/v1/search?q=Dean%20Martin&type=artist\n",
      "https://api.spotify.com/v1/search?q=The%20Tokens&type=artist\n",
      "https://api.spotify.com/v1/search?q=Sonny%20%26%20Cher&type=artist\n",
      "https://api.spotify.com/v1/search?q=Bee%20Gees&type=artist\n",
      "https://api.spotify.com/v1/search?q=Lynyrd%20Skynyrd&type=artist\n",
      "https://api.spotify.com/v1/search?q=The%20Foundations&type=artist\n",
      "https://api.spotify.com/v1/search?q=Jay%20%26%20The%20Americans&type=artist\n",
      "https://api.spotify.com/v1/search?q=Big%20Brother%20%26%20The%20Holding%20Company&type=artist\n",
      "https://api.spotify.com/v1/search?q=Paul%20Anka&type=artist\n",
      "https://api.spotify.com/v1/search?q=Herman%27s%20Hermits&type=artist\n",
      "https://api.spotify.com/v1/search?q=Chubby%20Checker&type=artist\n",
      "https://api.spotify.com/v1/search?q=Roy%20Orbison&type=artist\n",
      "https://api.spotify.com/v1/search?q=Ben%20E.%20King&type=artist\n",
      "https://api.spotify.com/v1/search?q=The%20Animals&type=artist\n",
      "https://api.spotify.com/v1/search?q=TOTO&type=artist\n",
      "https://api.spotify.com/v1/search?q=Marvin%20Gaye&type=artist\n",
      "https://api.spotify.com/v1/search?q=John%20Denver&type=artist\n",
      "https://api.spotify.com/v1/search?q=Carl%20Douglas&type=artist\n",
      "https://api.spotify.com/v1/search?q=John%20Lennon&type=artist\n",
      "https://api.spotify.com/v1/search?q=Sha%20Na%20Na&type=artist\n",
      "https://api.spotify.com/v1/search?q=The%20Deep%20Dixie%20Boys&type=artist\n",
      "https://api.spotify.com/v1/search?q=Billy%20Joel&type=artist\n",
      "https://api.spotify.com/v1/search?q=Ritchie%20Valens&type=artist\n",
      "https://api.spotify.com/v1/search?q=Ricky%20Nelson&type=artist\n",
      "https://api.spotify.com/v1/search?q=The%20Turtles&type=artist\n",
      "https://api.spotify.com/v1/search?q=Neon%209&type=artist\n",
      "https://api.spotify.com/v1/search?q=Johnny%20Cash&type=artist\n",
      "https://api.spotify.com/v1/search?q=The%20Doors&type=artist\n",
      "https://api.spotify.com/v1/search?q=David%20Bowie&type=artist\n",
      "https://api.spotify.com/v1/search?q=The%20Clovers&type=artist\n",
      "https://api.spotify.com/v1/search?q=Simon%20%26%20Garfunkel&type=artist\n",
      "https://api.spotify.com/v1/search?q=The%20Firebirds&type=artist\n",
      "https://api.spotify.com/v1/search?q=Louis%20Armstrong&type=artist\n",
      "https://api.spotify.com/v1/search?q=Chuck%20Berry&type=artist\n",
      "https://api.spotify.com/v1/search?q=The%20Archies&type=artist\n",
      "https://api.spotify.com/v1/search?q=Wanna%20One&type=artist\n",
      "https://api.spotify.com/v1/search?q=Bill%20Haley%20%26%20His%20Comets&type=artist\n",
      "https://api.spotify.com/v1/search?q=Buddy%20Holly&type=artist\n",
      "https://api.spotify.com/v1/search?q=Tommy%20James%20%26%20The%20Shondells&type=artist\n",
      "https://api.spotify.com/v1/search?q=NCT&type=artist\n",
      "https://api.spotify.com/v1/search?q=MOMOLAND&type=artist\n",
      "https://api.spotify.com/v1/search?q=SS501&type=artist\n",
      "https://api.spotify.com/v1/search?q=T.O.P.&type=artist\n",
      "https://api.spotify.com/v1/search?q=Snakehips&type=artist\n",
      "https://api.spotify.com/v1/search?q=pH-1&type=artist\n",
      "https://api.spotify.com/v1/search?q=Tarin&type=artist\n",
      "https://api.spotify.com/v1/search?q=Chloe%20x%20Halle&type=artist\n",
      "https://api.spotify.com/v1/search?q=%C3%98ZI&type=artist\n",
      "https://api.spotify.com/v1/search?q=Raiden&type=artist\n",
      "https://api.spotify.com/v1/search?q=BUMKEY&type=artist\n",
      "https://api.spotify.com/v1/search?q=Night%20Riots&type=artist\n",
      "https://api.spotify.com/v1/search?q=Owl%20City&type=artist\n",
      "https://api.spotify.com/v1/search?q=Aziz%20Ansari&type=artist\n",
      "https://api.spotify.com/v1/search?q=DJ%20Snake&type=artist\n",
      "https://api.spotify.com/v1/search?q=PENTAGON&type=artist\n",
      "https://api.spotify.com/v1/search?q=Kenndog&type=artist\n",
      "https://api.spotify.com/v1/search?q=Bobby%20Darin&type=artist\n",
      "https://api.spotify.com/v1/search?q=Mad%20Tsai&type=artist\n",
      "https://api.spotify.com/v1/search?q=A-Wall&type=artist\n",
      "https://api.spotify.com/v1/search?q=Alec%20Benjamin&type=artist\n",
      "https://api.spotify.com/v1/search?q=ELO&type=artist\n",
      "https://api.spotify.com/v1/search?q=Similar%20Kind&type=artist\n",
      "https://api.spotify.com/v1/search?q=Cage%20The%20Elephant&type=artist\n",
      "https://api.spotify.com/v1/search?q=Crush&type=artist\n",
      "https://api.spotify.com/v1/search?q=ASTRO&type=artist\n",
      "https://api.spotify.com/v1/search?q=TVXQ%21&type=artist\n",
      "https://api.spotify.com/v1/search?q=Kodak%20Black&type=artist\n",
      "https://api.spotify.com/v1/search?q=easy%20life&type=artist\n",
      "https://api.spotify.com/v1/search?q=Tony22&type=artist\n",
      "https://api.spotify.com/v1/search?q=Roy%20Blair&type=artist\n",
      "https://api.spotify.com/v1/search?q=Victor%20Internet&type=artist\n",
      "https://api.spotify.com/v1/search?q=Oliver%20Tree&type=artist\n",
      "https://api.spotify.com/v1/search?q=Souly%20Had&type=artist\n",
      "https://api.spotify.com/v1/search?q=Mishaal&type=artist\n",
      "https://api.spotify.com/v1/search?q=I%20DONT%20KNOW%20HOW%20BUT%20THEY%20FOUND%20ME&type=artist\n",
      "https://api.spotify.com/v1/search?q=Ibrahim&type=artist\n",
      "https://api.spotify.com/v1/search?q=Internet%20Money&type=artist\n",
      "https://api.spotify.com/v1/search?q=benny%20blanco&type=artist\n",
      "https://api.spotify.com/v1/search?q=Kuzu%20Mellow&type=artist\n",
      "https://api.spotify.com/v1/search?q=Absofacto&type=artist\n",
      "https://api.spotify.com/v1/search?q=Ril%C3%A8s&type=artist\n",
      "https://api.spotify.com/v1/search?q=Mouse&type=artist\n",
      "https://api.spotify.com/v1/search?q=Paulo%20Londra&type=artist\n",
      "https://api.spotify.com/v1/search?q=Still%20Woozy&type=artist\n",
      "https://api.spotify.com/v1/search?q=Max%20Diaz&type=artist\n",
      "https://api.spotify.com/v1/search?q=Liltrxptendo&type=artist\n",
      "https://api.spotify.com/v1/search?q=Zachary%20Knowles&type=artist\n",
      "https://api.spotify.com/v1/search?q=BROCKHAMPTON&type=artist\n",
      "https://api.spotify.com/v1/search?q=Busu&type=artist\n",
      "https://api.spotify.com/v1/search?q=Isaiah%20Rashad&type=artist\n",
      "https://api.spotify.com/v1/search?q=Wassup%20Rocker&type=artist\n",
      "https://api.spotify.com/v1/search?q=The%20Rose&type=artist\n",
      "https://api.spotify.com/v1/search?q=Sir%20Chloe&type=artist\n",
      "https://api.spotify.com/v1/search?q=Tally%20Hall&type=artist\n",
      "https://api.spotify.com/v1/search?q=THE%20ANXIETY&type=artist\n",
      "https://api.spotify.com/v1/search?q=mxmtoon&type=artist\n",
      "https://api.spotify.com/v1/search?q=Kid%20Cudi&type=artist\n",
      "https://api.spotify.com/v1/search?q=Don%20Toliver&type=artist\n",
      "https://api.spotify.com/v1/search?q=Niall%20Horan&type=artist\n",
      "https://api.spotify.com/v1/search?q=Verum&type=artist\n",
      "https://api.spotify.com/v1/search?q=Travis%20Scott&type=artist\n",
      "https://api.spotify.com/v1/search?q=Sheck%20Wes&type=artist\n",
      "https://api.spotify.com/v1/search?q=Cardi%20B&type=artist\n",
      "https://api.spotify.com/v1/search?q=Juice%20WRLD&type=artist\n",
      "https://api.spotify.com/v1/search?q=American%20Authors&type=artist\n",
      "https://api.spotify.com/v1/search?q=Eminem&type=artist\n",
      "https://api.spotify.com/v1/search?q=Logic&type=artist\n",
      "https://api.spotify.com/v1/search?q=AJR&type=artist\n",
      "https://api.spotify.com/v1/search?q=Y2K&type=artist\n",
      "https://api.spotify.com/v1/search?q=OneRepublic&type=artist\n",
      "https://api.spotify.com/v1/search?q=Lizzo&type=artist\n",
      "https://api.spotify.com/v1/search?q=Eslabon%20Armado&type=artist\n",
      "https://api.spotify.com/v1/search?q=%E9%81%A0%E9%87%8E%E9%AB%98%E5%BF%97&type=artist\n",
      "https://api.spotify.com/v1/search?q=Eve&type=artist\n",
      "https://api.spotify.com/v1/search?q=YOASOBI&type=artist\n",
      "https://api.spotify.com/v1/search?q=LiSA&type=artist\n",
      "https://api.spotify.com/v1/search?q=1nonly&type=artist\n",
      "https://api.spotify.com/v1/search?q=itssvd&type=artist\n",
      "https://api.spotify.com/v1/search?q=Ty%20Dolla%20%24ign&type=artist\n",
      "https://api.spotify.com/v1/search?q=ZAYN&type=artist\n",
      "https://api.spotify.com/v1/search?q=Billie%20Eilish&type=artist\n",
      "https://api.spotify.com/v1/search?q=Sena%20Kana&type=artist\n",
      "https://api.spotify.com/v1/search?q=Liam%20Payne&type=artist\n",
      "https://api.spotify.com/v1/search?q=Sofia%20Karlberg&type=artist\n",
      "https://api.spotify.com/v1/search?q=PARTYNEXTDOOR&type=artist\n",
      "https://api.spotify.com/v1/search?q=SoMo&type=artist\n",
      "https://api.spotify.com/v1/search?q=Rihanna&type=artist\n",
      "https://api.spotify.com/v1/search?q=Lana%20Del%20Rey&type=artist\n",
      "https://api.spotify.com/v1/search?q=Q&type=artist\n",
      "https://api.spotify.com/v1/search?q=Giveon&type=artist\n",
      "https://api.spotify.com/v1/search?q=Masego&type=artist\n",
      "https://api.spotify.com/v1/search?q=UMI&type=artist\n",
      "https://api.spotify.com/v1/search?q=dhruv&type=artist\n"
     ]
    }
   ],
   "source": [
    "genres = []\n",
    "\n",
    "client_ID = utilsapi.CID_spotify\n",
    "client_secret = utilsapi.CS_spotify\n",
    "\n",
    "endpoint = \"https://accounts.spotify.com/api/token\"\n",
    "API_endpoint = \"https://api.spotify.com/v1/search\"\n",
    "\n",
    "def grab_accesstoken():\n",
    "    message = client_ID + \":\" + client_secret\n",
    "    message_bytes = message.encode(\"ascii\")\n",
    "    base64_bytes = base64.b64encode(message_bytes)\n",
    "    encoded_client_details = base64_bytes.decode(\"ascii\")\n",
    "    headers = {\"Authorization\": \"Basic \" + encoded_client_details}              \n",
    "    body = {\"grant_type\": \"client_credentials\"}\n",
    "    response = requests.post(url=endpoint, headers=headers, data=body)\n",
    "    json_object = json.loads(response.text)\n",
    "    return json_object[\"access_token\"]\n",
    "\n",
    "def make_request(access_token, full_url):\n",
    "    headers = {\"Accept\": \"application/json\",\n",
    "                \"Content-Type\": \"application/json\",\n",
    "                \"Authorization\": \"Bearer \" + access_token}\n",
    "    response = requests.get(url= full_url, headers=headers)\n",
    "    json_object = json.loads(response.text)\n",
    "    return json_object\n",
    "\n",
    "def search_request(access_token, search_term, search_type):\n",
    "    search_term = requests.utils.quote(search_term)\n",
    "    search_type = requests.utils.quote(search_type)\n",
    "    url = API_endpoint + \"?q=\" + search_term\n",
    "    url += \"&type=\" + search_type\n",
    "    print(url)\n",
    "    json_obj = make_request(access_token, url)\n",
    "    return json_obj\n",
    "\n",
    "def get_genres(json_obj):\n",
    "    artists = json_obj[\"artists\"]\n",
    "    items = artists[\"items\"]\n",
    "    if not items[0]:\n",
    "        exit\n",
    "    else:\n",
    "        first_artist_item = items[0] # TODO: are they sorted by match confidence/popularity?\n",
    "        genre = first_artist_item[\"genres\"]\n",
    "        return genre\n",
    "\n",
    "access_token = grab_accesstoken()\n",
    "\n",
    "for i in artists:\n",
    "    json_obj = search_request(access_token, i, \"artist\")\n",
    "    genre = get_genres(json_obj)\n",
    "    if not genre:\n",
    "        genres.append(\"NA\")\n",
    "    else:\n",
    "        genres.append(genre)"
   ]
  },
  {
   "cell_type": "markdown",
   "metadata": {},
   "source": [
    "in the follwoing cell we place the genres into a list. The request returns several genres per artist so I only take the first genre since it's the artist's main genre. "
   ]
  },
  {
   "cell_type": "code",
   "execution_count": 21,
   "metadata": {},
   "outputs": [],
   "source": [
    "cleaned_genres = []\n",
    "for i in genres:\n",
    "    if i == \"NA\":\n",
    "        cleaned_genres.append(\"NA\")\n",
    "    else:\n",
    "        cleaned_genres.append(i[0])\n"
   ]
  },
  {
   "cell_type": "markdown",
   "metadata": {},
   "source": [
    "Next we go through the artist column and fill a list that consists of the corresponding genre for each artist. "
   ]
  },
  {
   "cell_type": "code",
   "execution_count": 22,
   "metadata": {},
   "outputs": [
    {
     "name": "stdout",
     "output_type": "stream",
     "text": [
      "                   artist               genre\n",
      "0    Bring Me The Horizon   melodic metalcore\n",
      "1                Verzache           lo-fi rap\n",
      "2              Rich Brian  indonesian hip hop\n",
      "3             Post Malone             dfw rap\n",
      "4                    Joji     alternative r&b\n",
      "..                    ...                 ...\n",
      "461                     Q        classic rock\n",
      "462                Giveon                 pop\n",
      "463                Masego                  NA\n",
      "464                   UMI     alternative r&b\n",
      "465                 dhruv           chill r&b\n",
      "\n",
      "[466 rows x 2 columns]\n"
     ]
    }
   ],
   "source": [
    "final_artists = pd.DataFrame(artists, columns=[\"artist\"])\n",
    "final_artists['genre'] = cleaned_genres \n",
    "print(final_artists)\n",
    "\n",
    "temp_df = final_df[2]\n",
    "temp_genres = []\n",
    "for i in temp_df:\n",
    "    if i in artists:\n",
    "        index = artists.index(i)\n",
    "        temp_genres.append(cleaned_genres[index])\n",
    "    else: \n",
    "        temp_genres.append(\"NA\")\n",
    "\n",
    "final_df['genres'] = temp_genres"
   ]
  },
  {
   "cell_type": "markdown",
   "metadata": {},
   "source": [
    "Next I would like to see my top 5 genres that I listen to. So for this I take the genres attribute in the DataFrame and count the instances of each genre in the column. Then I preceded to place both the unique genres and thier counts into a DataFrame and sorted the DataFrame by value. I then take the 5 genres with the most instances and create a pie chart for them. It seems that I listen to k-pop the most followed by \"adult standards\", r&b, pop, and Latin American music. It was interesting to see that my top 5 genres spanned over at least 3 languages. "
   ]
  },
  {
   "cell_type": "code",
   "execution_count": 32,
   "metadata": {},
   "outputs": [
    {
     "name": "stdout",
     "output_type": "stream",
     "text": [
      "              genre  count\n",
      "6             k-pop    433\n",
      "21  adult standards    362\n",
      "4   alternative r&b    265\n",
      "32        dance pop    254\n",
      "18            latin    187\n"
     ]
    },
    {
     "data": {
      "text/plain": [
       "([<matplotlib.patches.Wedge at 0x1a998174a00>,\n",
       "  <matplotlib.patches.Wedge at 0x1a998174790>,\n",
       "  <matplotlib.patches.Wedge at 0x1a99817dc40>,\n",
       "  <matplotlib.patches.Wedge at 0x1a99817df10>,\n",
       "  <matplotlib.patches.Wedge at 0x1a99821a0a0>],\n",
       " [Text(0.678355904798632, 0.8659291347592074, 'k-pop'),\n",
       "  Text(-0.9252657168897265, 0.5948809571238104, 'adult standards'),\n",
       "  Text(-0.8116312491119655, -0.742465295798363, 'alternative r&b'),\n",
       "  Text(0.27895192017686854, -1.0640422107367913, 'dance pop'),\n",
       "  Text(1.016817295225341, -0.41962195858966, 'latin')])"
      ]
     },
     "execution_count": 32,
     "metadata": {},
     "output_type": "execute_result"
    },
    {
     "data": {
      "image/png": "[encoded data removed]",
      "text/plain": [
       "<Figure size 432x288 with 1 Axes>"
      ]
     },
     "metadata": {},
     "output_type": "display_data"
    }
   ],
   "source": [
    "genre_totals = []\n",
    "g_counts = []\n",
    "for i in final_df['genres']:\n",
    "    if i in genre_totals:\n",
    "        index = genre_totals.index(i)\n",
    "        g_counts[index] += 1\n",
    "    else:\n",
    "        genre_totals.append(i)\n",
    "        g_counts.append(1)\n",
    "\n",
    "genre_counts = pd.DataFrame(genre_totals, columns=['genre'])\n",
    "genre_counts['count'] = g_counts\n",
    "genre_counts = genre_counts.sort_values(by=['count'], ascending=False)\n",
    "fav_genres = genre_counts[:5]\n",
    "print(fav_genres)\n",
    "\n",
    "labels = ['k-pop', 'adult standards', 'alternative r&b', 'dance pop', 'latin']\n",
    "plt.pie(fav_genres['count'], labels=labels)"
   ]
  },
  {
   "cell_type": "markdown",
   "metadata": {},
   "source": [
    "Since I plan on using genre as my Y value later in my ML models, I call a label encoder to label the genres with numerical values. If you are interested in the keys, the key value pairs are saved in a separate text file within ths folder. After encoding all the instances, we append the list of encoded genres to the original DataFrame. "
   ]
  },
  {
   "cell_type": "code",
   "execution_count": 34,
   "metadata": {},
   "outputs": [],
   "source": [
    "le = preprocessing.LabelEncoder()\n",
    "genres = le.fit_transform(final_df['genres'])\n",
    "keys = le.classes_\n",
    "values = le.transform(le.classes_)\n",
    "dictionary = dict(zip(keys, values))\n",
    "\n",
    "write = open(\"genre_keys.txt\", \"w\")\n",
    "write.write(str(dictionary))\n",
    "write.close()\n",
    "\n",
    "final_df['encoded_genre'] = genres"
   ]
  },
  {
   "cell_type": "markdown",
   "metadata": {},
   "source": [
    "Lastly for EDA I will graph the daily weather and the amount of time I listen daily. The temperature graph displays a decreasing trend in average daily temperature from July to August. This makes sense because these are the months that we transition from summer to fall. Graphing the listening time, we see that there is an increase in listening time in September vs July. THis may be caused by my decreasing outdoor activities and school starting so I have more time to listen to music. It seems that there may be an inverse relationship between daily listening time and daily temperature so we will be testing the relationship between these two variables. "
   ]
  },
  {
   "cell_type": "code",
   "execution_count": 56,
   "metadata": {},
   "outputs": [
    {
     "data": {
      "text/plain": [
       "Text(0.5, 1.0, 'Daily Listening Time')"
      ]
     },
     "execution_count": 56,
     "metadata": {},
     "output_type": "execute_result"
    },
    {
     "data": {
      "image/png": "[encoded data removed]",
      "text/plain": [
       "<Figure size 432x288 with 1 Axes>"
      ]
     },
     "metadata": {
      "needs_background": "light"
     },
     "output_type": "display_data"
    },
    {
     "data": {
      "image/png": "[encoded data removed]",
      "text/plain": [
       "<Figure size 432x288 with 1 Axes>"
      ]
     },
     "metadata": {
      "needs_background": "light"
     },
     "output_type": "display_data"
    }
   ],
   "source": [
    "dates = df[\"date\"]\n",
    "temp = df[\"tmax\"]\n",
    "plt.plot(dates,temp, color=\"red\")\n",
    "plt.ylim(55)\n",
    "plt.xlim(-5,95)\n",
    "plt.xticks([0,31,62], ('July', 'August', 'September'))\n",
    "plt.title(\"Daily Temperature\")\n",
    "\n",
    "x = daily_time['date']\n",
    "y = daily_time['total_time']\n",
    "plt.figure()\n",
    "plt.bar(x, y)\n",
    "plt.xticks([0,31,62], ('July', 'August', 'September'))\n",
    "plt.title(\"Daily Listening Time\")"
   ]
  },
  {
   "cell_type": "markdown",
   "metadata": {},
   "source": [
    "Perhaps the most difficult part of data analysis was cleaning the dataset. There were so many issues that had to be dealt with from simply entering NaN all the way to missing parts of JSON files. Despite all of that the data that I gathered can be useful in both my hypothesis testing and ML models. \n",
    "\n",
    "### Hypothesis Testing\n",
    "\n",
    "For my hypothesis I will be testing the relationship between daily average temperature and the total minutes I listen everyday. I believe that as the weather gets colder and school begins, I spend more time daily listening to music. Perhaps this is because I am more restricted to indoor activities. So I will be testing the following:\n",
    "\n",
    "$H_0$ : In july, $\\mu$ listening time < $\\mu$ temperature and in September $\\mu$ listening time > $\\mu$ temperature\n",
    "\n",
    "$H_1$ : In july, $\\mu$ listening time > $\\mu$ temperature and in September $\\mu$ listening time < $\\mu$ temperature\n",
    "\n",
    "We will use a level of significane $\\alpha = 0.05$  \n",
    "Then we will use a 1 tailed, 2 independent sample t-test. Since we will be testing both July and September, we will be 2 seperate tests. So next lets get the data for the two months."
   ]
  },
  {
   "cell_type": "code",
   "execution_count": 35,
   "metadata": {},
   "outputs": [
    {
     "name": "stdout",
     "output_type": "stream",
     "text": [
      "july: 30\n",
      "september: 26\n"
     ]
    }
   ],
   "source": [
    "july_time = daily_time.loc[:29, 'total_time']\n",
    "september_time = daily_time.loc[57:, 'total_time']\n",
    "july_temp = df.loc[:32, 'tavg']\n",
    "september_temp = df.loc[64:, 'tavg']\n",
    "\n",
    "print(\"july:\", len(july_time))\n",
    "print(\"september:\", len(september_time))"
   ]
  },
  {
   "cell_type": "code",
   "execution_count": 36,
   "metadata": {},
   "outputs": [
    {
     "name": "stdout",
     "output_type": "stream",
     "text": [
      "29\n"
     ]
    }
   ],
   "source": [
    "#july testing \n",
    "\n",
    "dof = len(july_time) - 1\n",
    "print(dof)"
   ]
  },
  {
   "cell_type": "markdown",
   "metadata": {},
   "source": [
    "Our degree of freedom return 29 and level of significance is 0.05. Based on the t-table, our t-critial is 1.69. Therefore in July, if we return with t-calculated greater than 1.69 we will reject null hypothesis."
   ]
  },
  {
   "cell_type": "code",
   "execution_count": 37,
   "metadata": {},
   "outputs": [
    {
     "name": "stdout",
     "output_type": "stream",
     "text": [
      "t: 1.04983426963052\n",
      "Accept hypothesis\n"
     ]
    }
   ],
   "source": [
    "t, p = stats.ttest_ind(july_time, july_temp)\n",
    "print(\"t:\", t)\n",
    "if t > 1.69:\n",
    "    print(\"Reject hypothesis\")\n",
    "else:\n",
    "    print(\"Accept hypothesis\")"
   ]
  },
  {
   "cell_type": "code",
   "execution_count": 38,
   "metadata": {},
   "outputs": [
    {
     "name": "stdout",
     "output_type": "stream",
     "text": [
      "25\n"
     ]
    }
   ],
   "source": [
    "dof = len(september_time) - 1\n",
    "print(dof)"
   ]
  },
  {
   "cell_type": "markdown",
   "metadata": {},
   "source": [
    "Next when we test for September our degree of freedom is 25 and the level of significance is 0.05. This makes our t-critical to be 1.708. So in our Sepember test, we should reject the null hypothesis if t-calculated is less than 1.708."
   ]
  },
  {
   "cell_type": "code",
   "execution_count": 39,
   "metadata": {},
   "outputs": [
    {
     "name": "stdout",
     "output_type": "stream",
     "text": [
      "t: 3.7982055993570145\n",
      "Accept hypothesis\n"
     ]
    }
   ],
   "source": [
    "t, p = stats.ttest_ind(september_time, september_temp)\n",
    "print(\"t:\", t)\n",
    "if t < 1.708:\n",
    "    print(\"Reject hypothesis\")\n",
    "else:\n",
    "    print(\"Accept hypothesis\")"
   ]
  },
  {
   "cell_type": "markdown",
   "metadata": {},
   "source": [
    "The two tests performed above leads us to accept the null hypothesis. This concludes that I spend more time listening to music when the temperature starts to drop. There may be a number of reasons for this. However, I strongly belive that it's caused by decrease in outdoor activities and starting school. "
   ]
  },
  {
   "cell_type": "markdown",
   "metadata": {},
   "source": [
    "### ML on Artist Genre \n",
    "\n",
    "For ML I plan on seeing if I can predict the day's genre from the average daily temperature and the time I spent listing. I expect the model to return a low accuracy score for this because I'm more interested in seeing the correlation. As the model turns to be more accurate, we should be able to see that there are stronger relationships between the x and y attributes. In my situation however, I believe that my model will have low accuracy because I think there isn't a strong correlation between the time that I spend listening to music and the daily temperature. When I listen to music, it's more of an in the moment kind of deal rather than setting the mood based on the daily weather. "
   ]
  },
  {
   "cell_type": "code",
   "execution_count": 41,
   "metadata": {},
   "outputs": [
    {
     "name": "stdout",
     "output_type": "stream",
     "text": [
      "82\n"
     ]
    }
   ],
   "source": [
    "daily_genres = []\n",
    "prev_date = final_df[0][0]\n",
    "temp_genres =[]\n",
    "c = 0\n",
    "def most_common(lst):\n",
    "    return max(set(lst), key=lst.count)\n",
    "\n",
    "for i in final_df[0]:\n",
    "    if i == prev_date:\n",
    "        temp_genres.append(final_df['encoded_genre'][c])\n",
    "    else:\n",
    "        if len(temp_genres) == 0:\n",
    "            daily_genres.append(0)\n",
    "        else:\n",
    "            daily_genres.append(most_common(temp_genres))\n",
    "            temp_genres = [0]\n",
    "    c+=1\n",
    "    prev_date = i\n",
    "\n",
    "print(len(daily_genres))\n",
    "daily_genres.append(100)\n",
    "\n",
    "df = df.drop([3, 16, 20, 34, 36,55, 56,75], axis=0)"
   ]
  },
  {
   "cell_type": "markdown",
   "metadata": {},
   "source": [
    "First I grab the values average temperature and time spent listening and set these as my x values. For my Y (what I will be predicting) I have the genres I listen to most everyday. "
   ]
  },
  {
   "cell_type": "code",
   "execution_count": 42,
   "metadata": {},
   "outputs": [],
   "source": [
    "temp = df['tavg']\n",
    "X = pd.DataFrame(temp)\n",
    "X['time'] = daily_time['total_time']\n",
    "Y = daily_genres\n",
    "for index, item in enumerate(Y):\n",
    "    if item == 0:\n",
    "        Y[index] = 109\n",
    "x_train, x_test, y_train, y_test = train_test_split(X,Y,test_size=0.33, random_state=42)\n",
    "# https://github.com/davidsbatista/text-classification/issues/1 "
   ]
  },
  {
   "cell_type": "markdown",
   "metadata": {},
   "source": [
    "Here we scale our x values so that we can run them through our classifiers. Without doing this, we would be working on data that are not to scale. "
   ]
  },
  {
   "cell_type": "code",
   "execution_count": 43,
   "metadata": {},
   "outputs": [],
   "source": [
    "x_train = x_train.replace(np.nan, 0)\n",
    "x_test = x_test.replace(np.nan, 0)\n",
    "scaler = MinMaxScaler()\n",
    "scaler.fit(X)\n",
    "x_train_normalized = scaler.transform(x_train)\n",
    "x_test_normalized = scaler.transform(x_test)"
   ]
  },
  {
   "cell_type": "code",
   "execution_count": 52,
   "metadata": {},
   "outputs": [
    {
     "name": "stdout",
     "output_type": "stream",
     "text": [
      "[109 109 109  11 109 109 109 109 109 109 109 109 109 109 109   3 109   3\n",
      "   3 109 109 109 109 109 109   3 109 109]\n",
      "0.4642857142857143\n"
     ]
    }
   ],
   "source": [
    "knn_clf = KNeighborsClassifier(n_neighbors=20, metric=\"euclidean\")\n",
    "knn_clf.fit(x_train_normalized, y_train)\n",
    "y_predicted = knn_clf.predict(x_test_normalized)\n",
    "print(y_predicted)\n",
    "accuracy = accuracy_score(y_test, y_predicted)\n",
    "print(accuracy)"
   ]
  },
  {
   "cell_type": "code",
   "execution_count": 45,
   "metadata": {},
   "outputs": [
    {
     "name": "stdout",
     "output_type": "stream",
     "text": [
      "[ 61  52 109  67  11  11  11   3 111 109  11   3  11   3  11   3 109   3\n",
      "  11 109 111   3  61   3   3 109   3 109]\n",
      "0.25\n"
     ]
    }
   ],
   "source": [
    "tree_clf = DecisionTreeClassifier(random_state=0)\n",
    "tree_clf.fit(x_train_normalized, y_train)\n",
    "y_predicted = tree_clf.predict(x_test_normalized)\n",
    "print(y_predicted)\n",
    "accuracy = accuracy_score(y_test, y_predicted)\n",
    "print(accuracy)"
   ]
  },
  {
   "cell_type": "markdown",
   "metadata": {},
   "source": [
    "The first classifier I used was kNN with the number of neighbors being 20. The accuracy of this model is not that great since it is not quite 50%. The other classifier I used was decision tree which returned with a low accuracy of 25%. I would not rely on either to make predictions ont the genre that I will listen to. However, I do like to look at thses models as a way to express correlation accross data. The low accuracy of the ML predictions prove that there is little correlation between the daily temperature and listening time with the genre that I listen to on a given day. \n",
    "\n",
    "### Conclusion\n",
    "\n",
    "I analyzed my Spotify streaming history and the daily weather in Spokane, Washington. This returned some interesting results in which I concluded the inverse relationship between listening time and daily temperature. My ML models also displayed that there were very low levels of correlation between my most-listened-to genre on a given day. \n",
    "\n",
    "This was a fun project to look at and it is something that I will definitely be tweaking in the new future. There are still an abundance of tasks and APIs that I can use based on the data I have here. Hopefully I am able to work on it more over winter break since there is a lot of potential NLP opportunities that I have yet to use since they have limitations on lyrics of songs. "
   ]
  }
 ],
 "metadata": {
  "interpreter": {
   "hash": "c9b990c5d62ee769e41f5b0ca8dfed5034212d4f41e89fc58253a6dd76328f1f"
  },
  "kernelspec": {
   "display_name": "Python 3.8.8 64-bit ('base': conda)",
   "language": "python",
   "name": "python3"
  },
  "language_info": {
   "codemirror_mode": {
    "name": "ipython",
    "version": 3
   },
   "file_extension": ".py",
   "mimetype": "text/x-python",
   "name": "python",
   "nbconvert_exporter": "python",
   "pygments_lexer": "ipython3",
   "version": "3.8.8"
  },
  "orig_nbformat": 4
 },
 "nbformat": 4,
 "nbformat_minor": 2
}
