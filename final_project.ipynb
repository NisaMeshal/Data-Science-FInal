{
 "cells": [
  {
   "cell_type": "code",
   "execution_count": null,
   "metadata": {},
   "outputs": [],
   "source": []
  },
  {
   "cell_type": "code",
   "execution_count": 79,
   "metadata": {},
   "outputs": [
    {
     "name": "stdout",
     "output_type": "stream",
     "text": [
      "               0      1                     2                     3  minutes\n",
      "0     2021-07-01  00:04  Bring Me The Horizon         fresh bruises    33.08\n",
      "1     2021-07-01  00:07              Verzache        Losing My Love    28.96\n",
      "2     2021-07-01  00:10            Rich Brian                  Cold    38.07\n",
      "3     2021-07-01  00:14           Post Malone  Broken Whiskey Glass     4.70\n",
      "4     2021-07-01  00:14                  Joji               Will He    33.68\n",
      "...          ...    ...                   ...                   ...      ...\n",
      "4448  2021-09-29  04:45                  MINO                ROCKET    31.87\n",
      "4449  2021-09-29  04:46          99 Neighbors             Bangarang     8.80\n",
      "4450  2021-09-29  04:49           Pink Sweat$               Honesty    31.50\n",
      "4451  2021-09-29  04:52                 keshi         like i need u    30.45\n",
      "4452  2021-09-29  04:54              Doja Cat               Streets    20.29\n",
      "\n",
      "[4453 rows x 5 columns]\n"
     ]
    }
   ],
   "source": [
    "import requests\n",
    "import json\n",
    "import pandas as pd\n",
    "import numpy as np\n",
    "import matplotlib.pyplot as plt\n",
    "import base64\n",
    "\n",
    "spotify_data = pd.read_json(\"StreamingHistory1.json\")\n",
    "time_data = spotify_data['endTime']\n",
    "dates_list = []\n",
    "times_list = []\n",
    "for item in time_data:\n",
    "    values = item.split(' ')\n",
    "    dates_list.append(values[0])\n",
    "    times_list.append(values[1])\n",
    "d = {'dates': dates_list, 'times': times_list}\n",
    "split_df = pd.DataFrame(d)\n",
    "extract_df = pd.DataFrame([spotify_data[\"artistName\"], spotify_data[\"trackName\"], spotify_data[\"msPlayed\"]])\n",
    "spotify_data = spotify_data.drop(columns=['endTime'])\n",
    "final_df = pd.concat([split_df, spotify_data], axis=1, ignore_index=True)\n",
    "mlseconds = final_df[4]\n",
    "minutes = []\n",
    "for i in mlseconds:\n",
    "    minutes.append(round(i/6000, 2))\n",
    "final_df['minutes'] = minutes\n",
    "final_df = final_df.drop(columns=[4])\n",
    "print(final_df)\n",
    "\n",
    "final_df.to_csv(\"final.csv\")"
   ]
  },
  {
   "cell_type": "code",
   "execution_count": 80,
   "metadata": {},
   "outputs": [
    {
     "name": "stdout",
     "output_type": "stream",
     "text": [
      "          date  total_time\n",
      "0   2021-07-01      310.08\n",
      "1   2021-07-02      868.46\n",
      "2   2021-07-03      202.52\n",
      "3   2021-07-05     1258.68\n",
      "4   2021-07-06      367.37\n",
      "..         ...         ...\n",
      "78  2021-09-25     2772.11\n",
      "79  2021-09-26      258.72\n",
      "80  2021-09-27      264.92\n",
      "81  2021-09-28      493.04\n",
      "82  2021-09-29      527.59\n",
      "\n",
      "[83 rows x 2 columns]\n"
     ]
    }
   ],
   "source": [
    "time_data['date'] = final_df[0] \n",
    "time_data['minutes'] = final_df['minutes']\n",
    "dates = []\n",
    "total_minutes = []\n",
    "prev_date = time_data['date'][0]\n",
    "current_date = \"\"\n",
    "total_time = 0\n",
    "\n",
    "for i in range(len(time_data['date'])) :\n",
    "    current_date = time_data['date'][i]\n",
    "    if current_date == prev_date:\n",
    "        total_time = round(total_time + time_data['minutes'][i], 2)\n",
    "    if current_date != prev_date:\n",
    "        dates.append(prev_date)\n",
    "        total_minutes.append(total_time)\n",
    "        total_time = 0\n",
    "    prev_date = current_date\n",
    "dates.append(current_date)\n",
    "total_minutes.append(total_time)\n",
    "\n",
    "daily_time = pd.DataFrame(dates, columns=['date'])\n",
    "daily_time['total_time'] = total_minutes\n",
    "print(daily_time)"
   ]
  },
  {
   "cell_type": "code",
   "execution_count": 81,
   "metadata": {},
   "outputs": [],
   "source": [
    "# obtain daily weather data for 01/01/2021 until 10/20/2021 (I used the 20th because any later date made it error out)\n",
    "daily_url = \"https://meteostat.p.rapidapi.com/stations/daily\"\n",
    "daily_url += \"?station=\" + \"KSFF0\"\n",
    "daily_url += \"&start=2021-07-01&end=2021-09-29&units=imperial\"\n",
    "daily_headers = {\"x-rapidapi-key\": \"381cae8b55msh32063fc585da174p17432djsn6a4de74c8bbf\"}\n",
    "response = requests.get(url=daily_url, headers=daily_headers)\n",
    "json_obj = json.loads(response.text)\n",
    "data_obj = json_obj['data']\n",
    "#load data_obj into a data frame and set the headers. \n",
    "df = pd.DataFrame(data_obj, columns= ['date', 'tavg', 'tmin', 'tmax', 'prcp', 'snow', 'wdir', 'wspd', 'wpgt', 'pres', 'tsun'])\n",
    "#replace values that are missing with np.nan so I can later use .isnull().mean()\n",
    "df = df.fillna(value=np.nan)\n",
    "# takes the average of isnulls within the column and creates a new dataframe with columns that only contain less than 75% of NaNs\n",
    "df = df[df.columns[(df.isnull().mean() < 0.75)]]\n",
    "#cleans up the data frame by filling NaNs \n",
    "df = df.interpolate(method='linear')\n",
    "df = df.ffill()\n",
    "df = df.bfill()\n",
    "# prints out the cleaned data to a csv\n",
    "df.to_csv(\"Spokane_daily_weather_cleaned.csv\")\n"
   ]
  },
  {
   "cell_type": "code",
   "execution_count": 83,
   "metadata": {},
   "outputs": [
    {
     "name": "stdout",
     "output_type": "stream",
     "text": [
      "0       Bring Me The Horizon\n",
      "1                   Verzache\n",
      "2                 Rich Brian\n",
      "3                Post Malone\n",
      "4                       Joji\n",
      "                ...         \n",
      "4448                    MINO\n",
      "4449            99 Neighbors\n",
      "4450             Pink Sweat$\n",
      "4451                   keshi\n",
      "4452                Doja Cat\n",
      "Name: 2, Length: 4453, dtype: object\n"
     ]
    }
   ],
   "source": [
    "artists = final_df[2]\n",
    "genres = []\n",
    "\n"
   ]
  },
  {
   "cell_type": "code",
   "execution_count": 82,
   "metadata": {},
   "outputs": [
    {
     "data": {
      "text/plain": [
       "Text(0.5, 1.0, 'Daily Listening Time')"
      ]
     },
     "execution_count": 82,
     "metadata": {},
     "output_type": "execute_result"
    },
    {
     "data": {
      "image/png": "[encoded data removed]",
      "text/plain": [
       "<Figure size 432x288 with 1 Axes>"
      ]
     },
     "metadata": {
      "needs_background": "light"
     },
     "output_type": "display_data"
    },
    {
     "data": {
      "image/png": "[encoded data removed]",
      "text/plain": [
       "<Figure size 432x288 with 1 Axes>"
      ]
     },
     "metadata": {
      "needs_background": "light"
     },
     "output_type": "display_data"
    }
   ],
   "source": [
    "\n",
    "\n",
    "dates = df[\"date\"]\n",
    "temp = df[\"tmax\"]\n",
    "plt.bar(dates,temp)\n",
    "plt.ylim(55)\n",
    "plt.xlim(-5,95)\n",
    "plt.xticks([0,31,62], ('July', 'August', 'September'))\n",
    "plt.title(\"Daily Temperature\")\n",
    "\n",
    "x = daily_time['date']\n",
    "y = daily_time['total_time']\n",
    "plt.figure()\n",
    "plt.bar(x, y)\n",
    "plt.xticks([0,31,62], ('July', 'August', 'September'))\n",
    "plt.title(\"Daily Listening Time\")"
   ]
  },
  {
   "cell_type": "code",
   "execution_count": null,
   "metadata": {},
   "outputs": [],
   "source": []
  }
 ],
 "metadata": {
  "interpreter": {
   "hash": "c9b990c5d62ee769e41f5b0ca8dfed5034212d4f41e89fc58253a6dd76328f1f"
  },
  "kernelspec": {
   "display_name": "Python 3.8.8 64-bit ('base': conda)",
   "language": "python",
   "name": "python3"
  },
  "language_info": {
   "codemirror_mode": {
    "name": "ipython",
    "version": 3
   },
   "file_extension": ".py",
   "mimetype": "text/x-python",
   "name": "python",
   "nbconvert_exporter": "python",
   "pygments_lexer": "ipython3",
   "version": "3.8.8"
  },
  "orig_nbformat": 4
 },
 "nbformat": 4,
 "nbformat_minor": 2
}
